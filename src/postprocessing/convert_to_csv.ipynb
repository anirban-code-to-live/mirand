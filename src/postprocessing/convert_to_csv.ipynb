{
 "cells": [
  {
   "cell_type": "code",
   "execution_count": 1,
   "metadata": {},
   "outputs": [
    {
     "name": "stdout",
     "output_type": "stream",
     "text": [
      "../../data/cora/cora.embed\n",
      "(2708, 128)\n"
     ]
    }
   ],
   "source": [
    "import func_convert as converter\n",
    "\n",
    "datasets = ['cora']\n",
    "embed_fnames = ['cora.embed']\n",
    "\n",
    "for dataset in datasets:\n",
    "    for embed_fname in embed_fnames:\n",
    "        converter.conv_to_csv( dataset, embed_fname)"
   ]
  }
 ],
 "metadata": {
  "kernelspec": {
   "display_name": "Python 2",
   "language": "python",
   "name": "python2"
  },
  "language_info": {
   "codemirror_mode": {
    "name": "ipython",
    "version": 2
   },
   "file_extension": ".py",
   "mimetype": "text/x-python",
   "name": "python",
   "nbconvert_exporter": "python",
   "pygments_lexer": "ipython2",
   "version": "2.7.15"
  }
 },
 "nbformat": 4,
 "nbformat_minor": 2
}
